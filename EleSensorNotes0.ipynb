{
  "nbformat": 4,
  "nbformat_minor": 0,
  "metadata": {
    "colab": {
      "name": "EleSensorNotes0.ipynb",
      "provenance": []
    },
    "kernelspec": {
      "name": "python3",
      "display_name": "Python 3"
    },
    "language_info": {
      "name": "python"
    }
  },
  "cells": [
    {
      "cell_type": "markdown",
      "source": [
        "## I. Introduction  \n",
        "> **Fiber Bragg gratings (FBGs)** 光纤布拉格光栅（FBG）  \n",
        "**the peak tracking method** 传统研究方法 —— 研究对象 temperature and strain   \n",
        "**matrix inversion technique** 也是传统研究数学理论  ——  \n",
        "$$\n",
        " \\begin{bmatrix}X\\\\Y\\end{bmatrix} = \\begin{bmatrix}A & B\\\\C & D\\end{bmatrix}\\begin{bmatrix}ΔT\\\\Δ𝜀\\end{bmatrix}\n",
        "$$  \n",
        "**问题**： 矩阵线性，实际矩阵元素与温度和应变变化的关系非线性。  \n",
        "**实验方法：** wavelength shifts  \n",
        "**Edge‐filtering technique** 边缘滤波技术  works on the frequency‐to‐amplitude conversion principle  该技术的工作原理是频率到振幅的转换。  &emsp; **edge filter：** Fabry-Perot (FP) filter, Long-period gratings (LPGs), high birefringence fiber loop mirror.  \n",
        "**SMS-FBG**  \n",
        "(**m**etal **s**emiconductor **m**etal金属半导体金属 ? 𝝬  \n",
        "**s**ingle-**m**ulti-**s**ingle mode ? &#10004; )  \n",
        "\n",
        "#### 为达到目的 The proposed technique consists of two steps.\n",
        "<font color= #FD8B64>_First,_</font> a single-multi-single mode (SMS) fiber with a **higher filtering range (~8 nm)** has been convoluted with the **etched** FBG to serve interrogation purposes. 具有较高过滤范围（约8纳米）的单多单模（SMS）光纤已经与蚀刻的FBG卷绕在一起，以达到询问的目的。  \n",
        "<font color= #FD8B64>_Second,_</font> training model.\n",
        "<br />    \n",
        "## Ⅱ Modelling with ANN  \n",
        "![](https://raw.githubusercontent.com/Ridoo98/Im_StorageonRidoo/ac85e9daf56a2aed0bdc65e0f0b5e81614990625/EleSensor2082/Machine_Learning_Approach_1.png)"
      ],
      "metadata": {
        "id": "_HXUK8AZNhll"
      }
    }
  ]
}